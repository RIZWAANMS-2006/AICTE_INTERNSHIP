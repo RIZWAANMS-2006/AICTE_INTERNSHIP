{
 "cells": [
  {
   "cell_type": "markdown",
   "id": "intro-cell",
   "metadata": {},
   "source": [
    "# Chatbot Implementation using NLP"
   ]
  },
  {
   "cell_type": "code",
   "execution_count": null,
   "id": "install-packages",
   "metadata": {},
   "outputs": [],
   "source": [
    "!pip install nltk scikit-learn streamlit --user"
   ]
  },
  {
   "cell_type": "code",
   "execution_count": 2,
   "id": "import-libraries",
   "metadata": {},
   "outputs": [],
   "source": [
    "# Required Libraries\n",
    "import nltk\n",
    "import random\n",
    "import os\n",
    "import ssl\n",
    "import streamlit as st\n",
    "from sklearn.feature_extraction.text import TfidfVectorizer\n",
    "from sklearn.linear_model import LogisticRegression"
   ]
  },
  {
   "cell_type": "code",
   "execution_count": 3,
   "id": "nltk-download",
   "metadata": {},
   "outputs": [],
   "source": [
    "# Configuring NLTK\n",
    "ssl._create_default_https_context = ssl._create_unverified_context\n",
    "nltk.data.path.append(os.path.abspath('nltk_data'))\n",
    "nltk.download('punkt')"
   ]
  },
  {
   "cell_type": "code",
   "execution_count": 4,
   "id": "chatbot-intents",
   "metadata": {},
   "outputs": [],
   "source": [
    "# Chatbot Intent Data\n",
    "intents = [\n",
    "    {\n",
    "        'tag': 'greet',\n",
    "        'patterns': ['Hello', 'Hi', 'Hey there', 'What\"s up?', 'How\"s it going?'],\n",
    "        'responses': ['Hello!', 'Hey!', 'Hi there!', 'Howdy!', 'Greetings!']\n",
    "    },\n",
    "    {\n",
    "        'tag': 'farewell',\n",
    "        'patterns': ['Goodbye', 'See ya', 'Bye', 'Take care'],\n",
    "        'responses': ['Goodbye!', 'See you!', 'Take care!', 'Catch you later!']\n",
    "    },\n",
    "    {\n",
    "        'tag': 'thanks',\n",
    "        'patterns': ['Thanks', 'Thank you', 'Appreciate it'],\n",
    "        'responses': ['You\"re welcome!', 'No problem!', 'Glad to help!']\n",
    "    },\n",
    "    {\n",
    "        'tag': 'identity',\n",
    "        'patterns': ['Who are you?', 'What can you do?', 'Tell me about yourself'],\n",
    "        'responses': ['I\"m a chatbot created to assist you.', 'I can provide helpful responses to your queries.', 'I\"m here to help with your questions.']\n",
    "    },\n",
    "    {\n",
    "        'tag': 'support',\n",
    "        'patterns': ['Help', 'I need help', 'Can you assist me?'],\n",
    "        'responses': ['Of course! How can I assist you?', 'Sure, tell me what you need help with.', 'I\"m here to help. What do you need?']\n",
    "    }\n",
    "]"
   ]
  },
  {
   "cell_type": "code",
   "execution_count": null,
   "id": "user-info",
   "metadata": {},
   "outputs": [],
   "source": [
    "# User Info\n",
    "username = 'rizwaanms'\n"
   ]
  }
 ],
 "metadata": {
  "kernelspec": {
   "display_name": "Python 3",
   "language": "python",
   "name": "python3"
  },
  "language_info": {
   "codemirror_mode": {
    "name": "ipython",
    "version": 3
   },
   "file_extension": ".py",
   "mimetype": "text/x-python",
   "name": "python",
   "nbconvert_exporter": "python",
   "pygments_lexer": "ipython3",
   "version": "3.12.9"
  }
 },
 "nbformat": 4,
 "nbformat_minor": 5
}
